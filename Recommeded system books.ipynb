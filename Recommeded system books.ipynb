{
 "cells": [
  {
   "cell_type": "code",
   "execution_count": 61,
   "metadata": {},
   "outputs": [],
   "source": [
    "import pandas as pd"
   ]
  },
  {
   "cell_type": "code",
   "execution_count": 62,
   "metadata": {},
   "outputs": [],
   "source": [
    "books=pd.read_csv(\"C:/Users/elcot/Downloads/books.csv\",encoding='ISO-8859-10')"
   ]
  },
  {
   "cell_type": "code",
   "execution_count": 63,
   "metadata": {},
   "outputs": [
    {
     "data": {
      "text/html": [
       "<div>\n",
       "<style scoped>\n",
       "    .dataframe tbody tr th:only-of-type {\n",
       "        vertical-align: middle;\n",
       "    }\n",
       "\n",
       "    .dataframe tbody tr th {\n",
       "        vertical-align: top;\n",
       "    }\n",
       "\n",
       "    .dataframe thead th {\n",
       "        text-align: right;\n",
       "    }\n",
       "</style>\n",
       "<table border=\"1\" class=\"dataframe\">\n",
       "  <thead>\n",
       "    <tr style=\"text-align: right;\">\n",
       "      <th></th>\n",
       "      <th>Unnamed: 0</th>\n",
       "      <th>users[, 1]</th>\n",
       "      <th>BookTitle</th>\n",
       "      <th>BookAuthor</th>\n",
       "      <th>Publisher</th>\n",
       "      <th>ratings[, 3]</th>\n",
       "    </tr>\n",
       "  </thead>\n",
       "  <tbody>\n",
       "    <tr>\n",
       "      <th>0</th>\n",
       "      <td>1</td>\n",
       "      <td>1</td>\n",
       "      <td>Classical Mythology</td>\n",
       "      <td>Mark P. O. Morford</td>\n",
       "      <td>Oxford University Press</td>\n",
       "      <td>0</td>\n",
       "    </tr>\n",
       "    <tr>\n",
       "      <th>1</th>\n",
       "      <td>2</td>\n",
       "      <td>2</td>\n",
       "      <td>Clara Callan</td>\n",
       "      <td>Richard Bruce Wright</td>\n",
       "      <td>HarperFlamingo Canada</td>\n",
       "      <td>5</td>\n",
       "    </tr>\n",
       "    <tr>\n",
       "      <th>2</th>\n",
       "      <td>3</td>\n",
       "      <td>3</td>\n",
       "      <td>Decision in Normandy</td>\n",
       "      <td>Carlo D'Este</td>\n",
       "      <td>HarperPerennial</td>\n",
       "      <td>0</td>\n",
       "    </tr>\n",
       "    <tr>\n",
       "      <th>3</th>\n",
       "      <td>4</td>\n",
       "      <td>4</td>\n",
       "      <td>Flu: The Story of the Great Influenza Pandemic...</td>\n",
       "      <td>Gina Bari Kolata</td>\n",
       "      <td>Farrar Straus Giroux</td>\n",
       "      <td>3</td>\n",
       "    </tr>\n",
       "    <tr>\n",
       "      <th>4</th>\n",
       "      <td>5</td>\n",
       "      <td>5</td>\n",
       "      <td>The Mummies of Urumchi</td>\n",
       "      <td>E. J. W. Barber</td>\n",
       "      <td>W. W. Norton &amp;amp; Company</td>\n",
       "      <td>6</td>\n",
       "    </tr>\n",
       "  </tbody>\n",
       "</table>\n",
       "</div>"
      ],
      "text/plain": [
       "   Unnamed: 0  users[, 1]                                          BookTitle  \\\n",
       "0           1           1                                Classical Mythology   \n",
       "1           2           2                                       Clara Callan   \n",
       "2           3           3                               Decision in Normandy   \n",
       "3           4           4  Flu: The Story of the Great Influenza Pandemic...   \n",
       "4           5           5                             The Mummies of Urumchi   \n",
       "\n",
       "             BookAuthor                   Publisher  ratings[, 3]  \n",
       "0    Mark P. O. Morford     Oxford University Press             0  \n",
       "1  Richard Bruce Wright       HarperFlamingo Canada             5  \n",
       "2          Carlo D'Este             HarperPerennial             0  \n",
       "3      Gina Bari Kolata        Farrar Straus Giroux             3  \n",
       "4       E. J. W. Barber  W. W. Norton &amp; Company             6  "
      ]
     },
     "execution_count": 63,
     "metadata": {},
     "output_type": "execute_result"
    }
   ],
   "source": [
    "books.head()"
   ]
  },
  {
   "cell_type": "code",
   "execution_count": 64,
   "metadata": {},
   "outputs": [
    {
     "data": {
      "text/plain": [
       "0                                      Mark P. O. Morford\n",
       "1                                    Richard Bruce Wright\n",
       "2                                            Carlo D'Este\n",
       "3                                        Gina Bari Kolata\n",
       "4                                         E. J. W. Barber\n",
       "5                                                 Amy Tan\n",
       "6                                           Robert Cowley\n",
       "7                                             Scott Turow\n",
       "8                                         David Cordingly\n",
       "9                                             Ann Beattie\n",
       "10                                   David Adams Richards\n",
       "11                                             Adam Lebor\n",
       "12                                            Sheila Heti\n",
       "13                                           R. J. Kaiser\n",
       "14                                          Jack Canfield\n",
       "15                                      Loren D. Estleman\n",
       "16                                     Robert Hendrickson\n",
       "17                                           Julia Oliver\n",
       "18                                           John Grisham\n",
       "19                                          Toni Morrison\n",
       "20                                              The Onion\n",
       "21                                     Celia Brooks Brown\n",
       "22                                          J. R. Parrish\n",
       "23                           Mary-Kate &amp; Ashley Olsen\n",
       "24                                        Robynn Clairday\n",
       "25                                          Kathleen Duey\n",
       "26                                           Rich Shapero\n",
       "27                                       Michael Crichton\n",
       "28                                       MICHAEL CRICHTON\n",
       "29                                             C.S. Lewis\n",
       "                              ...                        \n",
       "4970     Graf Publishers;http://images.amazon.com/imag...\n",
       "4971     Robin (Love Stories: Year Abroad Trilogy (Pap...\n",
       "4972     Claire;Francesca Lia Block;2000;Harpercollins...\n",
       "4973     Bk 1);Isaac Asimov;1986;Del Rey Books;http://...\n",
       "4974     Training W/Magic Pb;Ed  Rose;1997;McGraw-Hill...\n",
       "4975     Child Murder Epidemic Sweeping America;Michel...\n",
       "4976     Shadow, Vol. 1);Janny Wurts;1995;Eos;http://i...\n",
       "4977     Company;http://images.amazon.com/images/P/039...\n",
       "4978     Row;http://images.amazon.com/images/P/0060406...\n",
       "4979                                      Alejandro Dumas\n",
       "4980                                          Jules Verne\n",
       "4981                                          Ric Edelman\n",
       "4982                                        Bill Pronzini\n",
       "4983                                    William L. Shirer\n",
       "4984                                   James M. McPherson\n",
       "4985                                   Richard M. Ketchum\n",
       "4986                                 James Alexander Thom\n",
       "4987                                          Allan Haley\n",
       "4988                                         Jeff Carlson\n",
       "4989                                         Diana Martin\n",
       "4990                                       Robin Williams\n",
       "4991                                         Diane Martin\n",
       "4992                                        Mitzi Szereto\n",
       "4993                                     Michael Farquhar\n",
       "4994                                             Roni Jay\n",
       "4995                                       Daniella Chace\n",
       "4996                                      Bryce Courtenay\n",
       "4997                                          David Smith\n",
       "4998                                         Carole Bloom\n",
       "4999                                       Salman Rushdie\n",
       "Name: BookAuthor, Length: 5000, dtype: object"
      ]
     },
     "execution_count": 64,
     "metadata": {},
     "output_type": "execute_result"
    }
   ],
   "source": [
    "books.BookAuthor"
   ]
  },
  {
   "cell_type": "code",
   "execution_count": 65,
   "metadata": {},
   "outputs": [],
   "source": [
    "from sklearn.feature_extraction.text import TfidfVectorizer"
   ]
  },
  {
   "cell_type": "code",
   "execution_count": 66,
   "metadata": {},
   "outputs": [],
   "source": [
    "tfidf = TfidfVectorizer(stop_words=\"english\")"
   ]
  },
  {
   "cell_type": "code",
   "execution_count": 67,
   "metadata": {},
   "outputs": [
    {
     "data": {
      "text/plain": [
       "0"
      ]
     },
     "execution_count": 67,
     "metadata": {},
     "output_type": "execute_result"
    }
   ],
   "source": [
    "books[\"BookAuthor\"].isnull().sum() "
   ]
  },
  {
   "cell_type": "code",
   "execution_count": 68,
   "metadata": {},
   "outputs": [],
   "source": [
    "tfidf_matrix = tfidf.fit_transform(books.BookAuthor)"
   ]
  },
  {
   "cell_type": "code",
   "execution_count": 69,
   "metadata": {},
   "outputs": [
    {
     "data": {
      "text/plain": [
       "(5000, 8441)"
      ]
     },
     "execution_count": 69,
     "metadata": {},
     "output_type": "execute_result"
    }
   ],
   "source": [
    "tfidf_matrix.shape"
   ]
  },
  {
   "cell_type": "code",
   "execution_count": 70,
   "metadata": {},
   "outputs": [],
   "source": [
    "from sklearn.metrics.pairwise import linear_kernel"
   ]
  },
  {
   "cell_type": "code",
   "execution_count": 71,
   "metadata": {},
   "outputs": [],
   "source": [
    "cosine_sim_matrix = linear_kernel(tfidf_matrix,tfidf_matrix)"
   ]
  },
  {
   "cell_type": "code",
   "execution_count": 72,
   "metadata": {},
   "outputs": [],
   "source": [
    "books_index = pd.Series(books.index,index=books['BookTitle']).drop_duplicates()"
   ]
  },
  {
   "cell_type": "code",
   "execution_count": 81,
   "metadata": {},
   "outputs": [
    {
     "data": {
      "text/plain": [
       "4"
      ]
     },
     "execution_count": 81,
     "metadata": {},
     "output_type": "execute_result"
    }
   ],
   "source": [
    "books_index[\"The Mummies of Urumchi\"]"
   ]
  },
  {
   "cell_type": "code",
   "execution_count": 85,
   "metadata": {},
   "outputs": [],
   "source": [
    "def get_books_recommendations(BookTitle,topN):\n",
    "    \n",
    "   \n",
    "    #topN = 10\n",
    "    # Getting the movie index using its title \n",
    "    BookAuthor = books_index[BookTitle]\n",
    "    \n",
    "    # Getting the pair wise similarity score for all the anime's with that \n",
    "    # anime\n",
    "    cosine_scores = list(enumerate(cosine_sim_matrix[BookAuthor]))\n",
    "    \n",
    "    # Sorting the cosine_similarity scores based on scores \n",
    "    cosine_scores = sorted(cosine_scores,key=lambda x:x[1],reverse = True)\n",
    "    \n",
    "    # Get the scores of top 10 most similar anime's \n",
    "    cosine_scores_10 = cosine_scores[0:topN+1]\n",
    "    \n",
    "    # Getting the anime index \n",
    "    BookAuthor1  =  [i[0] for i in cosine_scores_10]\n",
    "    books_scores =  [i[1] for i in cosine_scores_10]\n",
    "    \n",
    "    # Similar movies and scores\n",
    "    books_similar_books = pd.DataFrame(columns=[\"BookTitle\",\"Score\"])\n",
    "    books_similar_books[\"BookTitle\"] = books.loc[BookAuthor1,\"BookTitle\"]\n",
    "    books_similar_books[\"Score\"] = books_scores\n",
    "    books_similar_books.reset_index(inplace=True)  \n",
    "    books_similar_books.drop([\"index\"],axis=1,inplace=True)\n",
    "    print (books_similar_books)\n",
    "    #return (anime_similar_show)\n"
   ]
  },
  {
   "cell_type": "code",
   "execution_count": 87,
   "metadata": {},
   "outputs": [
    {
     "name": "stdout",
     "output_type": "stream",
     "text": [
      "                                            BookTitle     Score\n",
      "0                                     PLEADING GUILTY  1.000000\n",
      "1                          Reversible Errors: A Novel  1.000000\n",
      "2                                   Presumed Innocent  1.000000\n",
      "3                                     Pleading Guilty  1.000000\n",
      "4                                          Negaholics  0.581942\n",
      "5            Random Acts Of Management:A Dilbert Book  0.394651\n",
      "6          Conversations With Dogbert: A Dilbert Book  0.394651\n",
      "7   The Dilbert Bunch: A Dilbert Book (Main Street...  0.394651\n",
      "8    You Don't Need Experience if You've Got Attitude  0.394651\n",
      "9   The Boss: Nameless, Blameless and Shameless (A...  0.394651\n",
      "10           Dogbert's Top Secret Management Handbook  0.394651\n"
     ]
    }
   ],
   "source": [
    "get_books_recommendations(\"PLEADING GUILTY\",topN=10)"
   ]
  },
  {
   "cell_type": "code",
   "execution_count": null,
   "metadata": {},
   "outputs": [],
   "source": []
  }
 ],
 "metadata": {
  "kernelspec": {
   "display_name": "Python 3",
   "language": "python",
   "name": "python3"
  },
  "language_info": {
   "codemirror_mode": {
    "name": "ipython",
    "version": 3
   },
   "file_extension": ".py",
   "mimetype": "text/x-python",
   "name": "python",
   "nbconvert_exporter": "python",
   "pygments_lexer": "ipython3",
   "version": "3.7.3"
  }
 },
 "nbformat": 4,
 "nbformat_minor": 2
}
