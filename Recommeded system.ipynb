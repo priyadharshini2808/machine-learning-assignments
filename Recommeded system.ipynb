{
 "cells": [
  {
   "cell_type": "code",
   "execution_count": 36,
   "metadata": {},
   "outputs": [],
   "source": [
    "import pandas as pd"
   ]
  },
  {
   "cell_type": "code",
   "execution_count": 37,
   "metadata": {},
   "outputs": [],
   "source": [
    "books=pd.read_csv(\"C:/Users/elcot/Downloads/books.csv\",encoding=\"ISO-8859-10\")"
   ]
  },
  {
   "cell_type": "code",
   "execution_count": 38,
   "metadata": {},
   "outputs": [
    {
     "data": {
      "text/html": [
       "<div>\n",
       "<style scoped>\n",
       "    .dataframe tbody tr th:only-of-type {\n",
       "        vertical-align: middle;\n",
       "    }\n",
       "\n",
       "    .dataframe tbody tr th {\n",
       "        vertical-align: top;\n",
       "    }\n",
       "\n",
       "    .dataframe thead th {\n",
       "        text-align: right;\n",
       "    }\n",
       "</style>\n",
       "<table border=\"1\" class=\"dataframe\">\n",
       "  <thead>\n",
       "    <tr style=\"text-align: right;\">\n",
       "      <th></th>\n",
       "      <th>Unnamed: 0</th>\n",
       "      <th>users[, 1]</th>\n",
       "      <th>BookTitle</th>\n",
       "      <th>BookAuthor</th>\n",
       "      <th>Publisher</th>\n",
       "      <th>ratings[, 3]</th>\n",
       "    </tr>\n",
       "  </thead>\n",
       "  <tbody>\n",
       "    <tr>\n",
       "      <th>0</th>\n",
       "      <td>1</td>\n",
       "      <td>1</td>\n",
       "      <td>Classical Mythology</td>\n",
       "      <td>Mark P. O. Morford</td>\n",
       "      <td>Oxford University Press</td>\n",
       "      <td>0</td>\n",
       "    </tr>\n",
       "    <tr>\n",
       "      <th>1</th>\n",
       "      <td>2</td>\n",
       "      <td>2</td>\n",
       "      <td>Clara Callan</td>\n",
       "      <td>Richard Bruce Wright</td>\n",
       "      <td>HarperFlamingo Canada</td>\n",
       "      <td>5</td>\n",
       "    </tr>\n",
       "    <tr>\n",
       "      <th>2</th>\n",
       "      <td>3</td>\n",
       "      <td>3</td>\n",
       "      <td>Decision in Normandy</td>\n",
       "      <td>Carlo D'Este</td>\n",
       "      <td>HarperPerennial</td>\n",
       "      <td>0</td>\n",
       "    </tr>\n",
       "    <tr>\n",
       "      <th>3</th>\n",
       "      <td>4</td>\n",
       "      <td>4</td>\n",
       "      <td>Flu: The Story of the Great Influenza Pandemic...</td>\n",
       "      <td>Gina Bari Kolata</td>\n",
       "      <td>Farrar Straus Giroux</td>\n",
       "      <td>3</td>\n",
       "    </tr>\n",
       "    <tr>\n",
       "      <th>4</th>\n",
       "      <td>5</td>\n",
       "      <td>5</td>\n",
       "      <td>The Mummies of Urumchi</td>\n",
       "      <td>E. J. W. Barber</td>\n",
       "      <td>W. W. Norton &amp;amp; Company</td>\n",
       "      <td>6</td>\n",
       "    </tr>\n",
       "  </tbody>\n",
       "</table>\n",
       "</div>"
      ],
      "text/plain": [
       "   Unnamed: 0  users[, 1]                                          BookTitle  \\\n",
       "0           1           1                                Classical Mythology   \n",
       "1           2           2                                       Clara Callan   \n",
       "2           3           3                               Decision in Normandy   \n",
       "3           4           4  Flu: The Story of the Great Influenza Pandemic...   \n",
       "4           5           5                             The Mummies of Urumchi   \n",
       "\n",
       "             BookAuthor                   Publisher  ratings[, 3]  \n",
       "0    Mark P. O. Morford     Oxford University Press             0  \n",
       "1  Richard Bruce Wright       HarperFlamingo Canada             5  \n",
       "2          Carlo D'Este             HarperPerennial             0  \n",
       "3      Gina Bari Kolata        Farrar Straus Giroux             3  \n",
       "4       E. J. W. Barber  W. W. Norton &amp; Company             6  "
      ]
     },
     "execution_count": 38,
     "metadata": {},
     "output_type": "execute_result"
    }
   ],
   "source": [
    "books.head()"
   ]
  },
  {
   "cell_type": "code",
   "execution_count": 39,
   "metadata": {},
   "outputs": [
    {
     "data": {
      "text/plain": [
       "(5000, 6)"
      ]
     },
     "execution_count": 39,
     "metadata": {},
     "output_type": "execute_result"
    }
   ],
   "source": [
    "books.shape"
   ]
  },
  {
   "cell_type": "code",
   "execution_count": 40,
   "metadata": {},
   "outputs": [
    {
     "data": {
      "text/plain": [
       "Index(['Unnamed: 0', 'users[, 1]', 'BookTitle', 'BookAuthor', 'Publisher',\n",
       "       'ratings[, 3]'],\n",
       "      dtype='object')"
      ]
     },
     "execution_count": 40,
     "metadata": {},
     "output_type": "execute_result"
    }
   ],
   "source": [
    "books.columns"
   ]
  },
  {
   "cell_type": "code",
   "execution_count": 41,
   "metadata": {},
   "outputs": [
    {
     "data": {
      "text/plain": [
       "0                                      Mark P. O. Morford\n",
       "1                                    Richard Bruce Wright\n",
       "2                                            Carlo D'Este\n",
       "3                                        Gina Bari Kolata\n",
       "4                                         E. J. W. Barber\n",
       "5                                                 Amy Tan\n",
       "6                                           Robert Cowley\n",
       "7                                             Scott Turow\n",
       "8                                         David Cordingly\n",
       "9                                             Ann Beattie\n",
       "10                                   David Adams Richards\n",
       "11                                             Adam Lebor\n",
       "12                                            Sheila Heti\n",
       "13                                           R. J. Kaiser\n",
       "14                                          Jack Canfield\n",
       "15                                      Loren D. Estleman\n",
       "16                                     Robert Hendrickson\n",
       "17                                           Julia Oliver\n",
       "18                                           John Grisham\n",
       "19                                          Toni Morrison\n",
       "20                                              The Onion\n",
       "21                                     Celia Brooks Brown\n",
       "22                                          J. R. Parrish\n",
       "23                           Mary-Kate &amp; Ashley Olsen\n",
       "24                                        Robynn Clairday\n",
       "25                                          Kathleen Duey\n",
       "26                                           Rich Shapero\n",
       "27                                       Michael Crichton\n",
       "28                                       MICHAEL CRICHTON\n",
       "29                                             C.S. Lewis\n",
       "                              ...                        \n",
       "4970     Graf Publishers;http://images.amazon.com/imag...\n",
       "4971     Robin (Love Stories: Year Abroad Trilogy (Pap...\n",
       "4972     Claire;Francesca Lia Block;2000;Harpercollins...\n",
       "4973     Bk 1);Isaac Asimov;1986;Del Rey Books;http://...\n",
       "4974     Training W/Magic Pb;Ed  Rose;1997;McGraw-Hill...\n",
       "4975     Child Murder Epidemic Sweeping America;Michel...\n",
       "4976     Shadow, Vol. 1);Janny Wurts;1995;Eos;http://i...\n",
       "4977     Company;http://images.amazon.com/images/P/039...\n",
       "4978     Row;http://images.amazon.com/images/P/0060406...\n",
       "4979                                      Alejandro Dumas\n",
       "4980                                          Jules Verne\n",
       "4981                                          Ric Edelman\n",
       "4982                                        Bill Pronzini\n",
       "4983                                    William L. Shirer\n",
       "4984                                   James M. McPherson\n",
       "4985                                   Richard M. Ketchum\n",
       "4986                                 James Alexander Thom\n",
       "4987                                          Allan Haley\n",
       "4988                                         Jeff Carlson\n",
       "4989                                         Diana Martin\n",
       "4990                                       Robin Williams\n",
       "4991                                         Diane Martin\n",
       "4992                                        Mitzi Szereto\n",
       "4993                                     Michael Farquhar\n",
       "4994                                             Roni Jay\n",
       "4995                                       Daniella Chace\n",
       "4996                                      Bryce Courtenay\n",
       "4997                                          David Smith\n",
       "4998                                         Carole Bloom\n",
       "4999                                       Salman Rushdie\n",
       "Name: BookAuthor, Length: 5000, dtype: object"
      ]
     },
     "execution_count": 41,
     "metadata": {},
     "output_type": "execute_result"
    }
   ],
   "source": [
    "books.BookAuthor"
   ]
  },
  {
   "cell_type": "code",
   "execution_count": 42,
   "metadata": {},
   "outputs": [],
   "source": [
    "from sklearn.feature_extraction.text import TfidfVectorizer"
   ]
  },
  {
   "cell_type": "code",
   "execution_count": 43,
   "metadata": {},
   "outputs": [],
   "source": [
    "tfidf = TfidfVectorizer(stop_words=\"english\")"
   ]
  },
  {
   "cell_type": "code",
   "execution_count": 44,
   "metadata": {},
   "outputs": [
    {
     "data": {
      "text/plain": [
       "0"
      ]
     },
     "execution_count": 44,
     "metadata": {},
     "output_type": "execute_result"
    }
   ],
   "source": [
    "books[\"BookAuthor\"].isnull().sum() "
   ]
  },
  {
   "cell_type": "code",
   "execution_count": 45,
   "metadata": {},
   "outputs": [],
   "source": [
    "books[\"BookAuthor\"] = books[\"BookAuthor\"].fillna(\" \")"
   ]
  },
  {
   "cell_type": "code",
   "execution_count": 46,
   "metadata": {},
   "outputs": [],
   "source": [
    "tfidf_matrix = tfidf.fit_transform(books.BookAuthor)"
   ]
  },
  {
   "cell_type": "code",
   "execution_count": 47,
   "metadata": {},
   "outputs": [
    {
     "data": {
      "text/plain": [
       "(5000, 8441)"
      ]
     },
     "execution_count": 47,
     "metadata": {},
     "output_type": "execute_result"
    }
   ],
   "source": [
    "tfidf_matrix.shape"
   ]
  },
  {
   "cell_type": "code",
   "execution_count": 48,
   "metadata": {},
   "outputs": [],
   "source": [
    "from sklearn.metrics.pairwise import linear_kernel"
   ]
  },
  {
   "cell_type": "code",
   "execution_count": 49,
   "metadata": {},
   "outputs": [],
   "source": [
    "cosine_sim_matrix = linear_kernel(tfidf_matrix,tfidf_matrix)"
   ]
  },
  {
   "cell_type": "code",
   "execution_count": 59,
   "metadata": {},
   "outputs": [],
   "source": [
    "indices = pd.Series(books['BookTitle'].index)"
   ]
  },
  {
   "cell_type": "code",
   "execution_count": 53,
   "metadata": {},
   "outputs": [
    {
     "data": {
      "text/plain": [
       "17"
      ]
     },
     "execution_count": 53,
     "metadata": {},
     "output_type": "execute_result"
    }
   ],
   "source": [
    "books_index[\"Goodbye to the Buttermilk Sky\"]"
   ]
  },
  {
   "cell_type": "code",
   "execution_count": 61,
   "metadata": {},
   "outputs": [],
   "source": [
    "def recommend(index, cosine_sim=cosine_sim_matrix):\n",
    "    id = indices[index]\n",
    "    # Get the pairwsie similarity scores of all books compared to that book, \n",
    "    # sorting them and getting top 5\n",
    "    similarity_scores = list(enumerate(cosine_sim[id]))\n",
    "    similarity_scores = sorted(similarity_scores, key=lambda x: x[1], reverse=True)\n",
    "    similarity_scores = similarity_scores[1:6]\n",
    "\n",
    "    # Get the books index\n",
    "    books_index = [i[0] for i in similarity_scores]\n",
    "\n",
    "    # Return the top 5 most similar books using integer-location based indexing (iloc)\n",
    "    return books['BookTitle'].iloc[books_index]\n"
   ]
  },
  {
   "cell_type": "code",
   "execution_count": 62,
   "metadata": {},
   "outputs": [
    {
     "data": {
      "text/plain": [
       "3174        Un Giorno Dopo L'altro\n",
       "3209    Almost blue (Stile libero)\n",
       "4939      Repairing PC Drives &amp\n",
       "0              Classical Mythology\n",
       "1                     Clara Callan\n",
       "Name: BookTitle, dtype: object"
      ]
     },
     "execution_count": 62,
     "metadata": {},
     "output_type": "execute_result"
    }
   ],
   "source": [
    "recommend(2)"
   ]
  },
  {
   "cell_type": "code",
   "execution_count": 63,
   "metadata": {},
   "outputs": [
    {
     "data": {
      "text/plain": [
       "4831    MONSTERS AND MAGICIANS (Stairway to Forever, B...\n",
       "4845                                   STAIRWAY TO FOREVE\n",
       "3558                 August 1944: The Campaign for France\n",
       "104     Creating Wealth : Retire in Ten Years Using Al...\n",
       "3403                                         Roter Drache\n",
       "Name: BookTitle, dtype: object"
      ]
     },
     "execution_count": 63,
     "metadata": {},
     "output_type": "execute_result"
    }
   ],
   "source": [
    "recommend(6)"
   ]
  },
  {
   "cell_type": "code",
   "execution_count": null,
   "metadata": {},
   "outputs": [],
   "source": []
  }
 ],
 "metadata": {
  "kernelspec": {
   "display_name": "Python 3",
   "language": "python",
   "name": "python3"
  },
  "language_info": {
   "codemirror_mode": {
    "name": "ipython",
    "version": 3
   },
   "file_extension": ".py",
   "mimetype": "text/x-python",
   "name": "python",
   "nbconvert_exporter": "python",
   "pygments_lexer": "ipython3",
   "version": "3.7.3"
  }
 },
 "nbformat": 4,
 "nbformat_minor": 2
}
