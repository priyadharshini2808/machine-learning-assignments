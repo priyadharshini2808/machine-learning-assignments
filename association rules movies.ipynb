{
 "cells": [
  {
   "cell_type": "code",
   "execution_count": 212,
   "metadata": {},
   "outputs": [],
   "source": [
    "import pandas as pd"
   ]
  },
  {
   "cell_type": "code",
   "execution_count": 213,
   "metadata": {},
   "outputs": [],
   "source": [
    "from mlxtend.frequent_patterns import apriori,association_rules"
   ]
  },
  {
   "cell_type": "code",
   "execution_count": 214,
   "metadata": {},
   "outputs": [],
   "source": [
    "my_movies=[]"
   ]
  },
  {
   "cell_type": "code",
   "execution_count": 215,
   "metadata": {},
   "outputs": [],
   "source": [
    "with open(\"C:/Users/elcot/Downloads/my_movies.csv\") as d:\n",
    "     my_movies= d.read()"
   ]
  },
  {
   "cell_type": "code",
   "execution_count": 216,
   "metadata": {},
   "outputs": [
    {
     "data": {
      "text/plain": [
       "'V1,V2,V3,V4,V5,Sixth Sense,Gladiator,LOTR1,Harry Potter1,Patriot,LOTR2,Harry Potter2,LOTR,Braveheart,Green Mile\\nSixth Sense,LOTR1,Harry Potter1,Green Mile,LOTR2,1,0,1,1,0,1,0,0,0,1\\nGladiator,Patriot,Braveheart,,,0,1,0,0,1,0,0,0,1,0\\nLOTR1,LOTR2,,,,0,0,1,0,0,1,0,0,0,0\\nGladiator,Patriot,Sixth Sense,,,1,1,0,0,1,0,0,0,0,0\\nGladiator,Patriot,Sixth Sense,,,1,1,0,0,1,0,0,0,0,0\\nGladiator,Patriot,Sixth Sense,,,1,1,0,0,1,0,0,0,0,0\\nHarry Potter1,Harry Potter2,,,,0,0,0,1,0,0,1,0,0,0\\nGladiator,Patriot,,,,0,1,0,0,1,0,0,0,0,0\\nGladiator,Patriot,Sixth Sense,,,1,1,0,0,1,0,0,0,0,0\\nSixth Sense,LOTR,Gladiator,Green Mile,,1,1,0,0,0,0,0,1,0,1\\n'"
      ]
     },
     "execution_count": 216,
     "metadata": {},
     "output_type": "execute_result"
    }
   ],
   "source": [
    "my_movies"
   ]
  },
  {
   "cell_type": "code",
   "execution_count": 217,
   "metadata": {},
   "outputs": [],
   "source": [
    "my_movies1 = my_movies.split(\"\\n\")"
   ]
  },
  {
   "cell_type": "code",
   "execution_count": 218,
   "metadata": {},
   "outputs": [
    {
     "data": {
      "text/plain": [
       "['V1,V2,V3,V4,V5,Sixth Sense,Gladiator,LOTR1,Harry Potter1,Patriot,LOTR2,Harry Potter2,LOTR,Braveheart,Green Mile',\n",
       " 'Sixth Sense,LOTR1,Harry Potter1,Green Mile,LOTR2,1,0,1,1,0,1,0,0,0,1',\n",
       " 'Gladiator,Patriot,Braveheart,,,0,1,0,0,1,0,0,0,1,0',\n",
       " 'LOTR1,LOTR2,,,,0,0,1,0,0,1,0,0,0,0',\n",
       " 'Gladiator,Patriot,Sixth Sense,,,1,1,0,0,1,0,0,0,0,0',\n",
       " 'Gladiator,Patriot,Sixth Sense,,,1,1,0,0,1,0,0,0,0,0',\n",
       " 'Gladiator,Patriot,Sixth Sense,,,1,1,0,0,1,0,0,0,0,0',\n",
       " 'Harry Potter1,Harry Potter2,,,,0,0,0,1,0,0,1,0,0,0',\n",
       " 'Gladiator,Patriot,,,,0,1,0,0,1,0,0,0,0,0',\n",
       " 'Gladiator,Patriot,Sixth Sense,,,1,1,0,0,1,0,0,0,0,0',\n",
       " 'Sixth Sense,LOTR,Gladiator,Green Mile,,1,1,0,0,0,0,0,1,0,1',\n",
       " '']"
      ]
     },
     "execution_count": 218,
     "metadata": {},
     "output_type": "execute_result"
    }
   ],
   "source": [
    "my_movies1"
   ]
  },
  {
   "cell_type": "code",
   "execution_count": 219,
   "metadata": {},
   "outputs": [],
   "source": [
    "my_movies1_list = []"
   ]
  },
  {
   "cell_type": "code",
   "execution_count": 220,
   "metadata": {},
   "outputs": [],
   "source": [
    "for i in my_movies1:\n",
    "    my_movies1_list.append(i.split(\",\"))"
   ]
  },
  {
   "cell_type": "code",
   "execution_count": 221,
   "metadata": {},
   "outputs": [],
   "source": [
    "all_my_movies1_list = [i for item in my_movies1_list for i in item]"
   ]
  },
  {
   "cell_type": "code",
   "execution_count": 222,
   "metadata": {},
   "outputs": [
    {
     "data": {
      "text/plain": [
       "['V1',\n",
       " 'V2',\n",
       " 'V3',\n",
       " 'V4',\n",
       " 'V5',\n",
       " 'Sixth Sense',\n",
       " 'Gladiator',\n",
       " 'LOTR1',\n",
       " 'Harry Potter1',\n",
       " 'Patriot',\n",
       " 'LOTR2',\n",
       " 'Harry Potter2',\n",
       " 'LOTR',\n",
       " 'Braveheart',\n",
       " 'Green Mile',\n",
       " 'Sixth Sense',\n",
       " 'LOTR1',\n",
       " 'Harry Potter1',\n",
       " 'Green Mile',\n",
       " 'LOTR2',\n",
       " '1',\n",
       " '0',\n",
       " '1',\n",
       " '1',\n",
       " '0',\n",
       " '1',\n",
       " '0',\n",
       " '0',\n",
       " '0',\n",
       " '1',\n",
       " 'Gladiator',\n",
       " 'Patriot',\n",
       " 'Braveheart',\n",
       " '',\n",
       " '',\n",
       " '0',\n",
       " '1',\n",
       " '0',\n",
       " '0',\n",
       " '1',\n",
       " '0',\n",
       " '0',\n",
       " '0',\n",
       " '1',\n",
       " '0',\n",
       " 'LOTR1',\n",
       " 'LOTR2',\n",
       " '',\n",
       " '',\n",
       " '',\n",
       " '0',\n",
       " '0',\n",
       " '1',\n",
       " '0',\n",
       " '0',\n",
       " '1',\n",
       " '0',\n",
       " '0',\n",
       " '0',\n",
       " '0',\n",
       " 'Gladiator',\n",
       " 'Patriot',\n",
       " 'Sixth Sense',\n",
       " '',\n",
       " '',\n",
       " '1',\n",
       " '1',\n",
       " '0',\n",
       " '0',\n",
       " '1',\n",
       " '0',\n",
       " '0',\n",
       " '0',\n",
       " '0',\n",
       " '0',\n",
       " 'Gladiator',\n",
       " 'Patriot',\n",
       " 'Sixth Sense',\n",
       " '',\n",
       " '',\n",
       " '1',\n",
       " '1',\n",
       " '0',\n",
       " '0',\n",
       " '1',\n",
       " '0',\n",
       " '0',\n",
       " '0',\n",
       " '0',\n",
       " '0',\n",
       " 'Gladiator',\n",
       " 'Patriot',\n",
       " 'Sixth Sense',\n",
       " '',\n",
       " '',\n",
       " '1',\n",
       " '1',\n",
       " '0',\n",
       " '0',\n",
       " '1',\n",
       " '0',\n",
       " '0',\n",
       " '0',\n",
       " '0',\n",
       " '0',\n",
       " 'Harry Potter1',\n",
       " 'Harry Potter2',\n",
       " '',\n",
       " '',\n",
       " '',\n",
       " '0',\n",
       " '0',\n",
       " '0',\n",
       " '1',\n",
       " '0',\n",
       " '0',\n",
       " '1',\n",
       " '0',\n",
       " '0',\n",
       " '0',\n",
       " 'Gladiator',\n",
       " 'Patriot',\n",
       " '',\n",
       " '',\n",
       " '',\n",
       " '0',\n",
       " '1',\n",
       " '0',\n",
       " '0',\n",
       " '1',\n",
       " '0',\n",
       " '0',\n",
       " '0',\n",
       " '0',\n",
       " '0',\n",
       " 'Gladiator',\n",
       " 'Patriot',\n",
       " 'Sixth Sense',\n",
       " '',\n",
       " '',\n",
       " '1',\n",
       " '1',\n",
       " '0',\n",
       " '0',\n",
       " '1',\n",
       " '0',\n",
       " '0',\n",
       " '0',\n",
       " '0',\n",
       " '0',\n",
       " 'Sixth Sense',\n",
       " 'LOTR',\n",
       " 'Gladiator',\n",
       " 'Green Mile',\n",
       " '',\n",
       " '1',\n",
       " '1',\n",
       " '0',\n",
       " '0',\n",
       " '0',\n",
       " '0',\n",
       " '0',\n",
       " '1',\n",
       " '0',\n",
       " '1',\n",
       " '']"
      ]
     },
     "execution_count": 222,
     "metadata": {},
     "output_type": "execute_result"
    }
   ],
   "source": [
    "all_my_movies1_list "
   ]
  },
  {
   "cell_type": "code",
   "execution_count": 223,
   "metadata": {},
   "outputs": [],
   "source": [
    "from collections import Counter"
   ]
  },
  {
   "cell_type": "code",
   "execution_count": 224,
   "metadata": {},
   "outputs": [],
   "source": [
    "item_frequencies = Counter(all_my_movies1_list )"
   ]
  },
  {
   "cell_type": "code",
   "execution_count": 225,
   "metadata": {},
   "outputs": [
    {
     "data": {
      "text/plain": [
       "Counter({'V1': 1,\n",
       "         'V2': 1,\n",
       "         'V3': 1,\n",
       "         'V4': 1,\n",
       "         'V5': 1,\n",
       "         'Sixth Sense': 7,\n",
       "         'Gladiator': 8,\n",
       "         'LOTR1': 3,\n",
       "         'Harry Potter1': 3,\n",
       "         'Patriot': 7,\n",
       "         'LOTR2': 3,\n",
       "         'Harry Potter2': 2,\n",
       "         'LOTR': 2,\n",
       "         'Braveheart': 2,\n",
       "         'Green Mile': 3,\n",
       "         '1': 30,\n",
       "         '0': 70,\n",
       "         '': 21})"
      ]
     },
     "execution_count": 225,
     "metadata": {},
     "output_type": "execute_result"
    }
   ],
   "source": [
    "item_frequencies"
   ]
  },
  {
   "cell_type": "code",
   "execution_count": 226,
   "metadata": {},
   "outputs": [],
   "source": [
    "item_frequencies = sorted(item_frequencies.items(),key = lambda x:x[1])"
   ]
  },
  {
   "cell_type": "code",
   "execution_count": 227,
   "metadata": {},
   "outputs": [
    {
     "data": {
      "text/plain": [
       "[('V1', 1),\n",
       " ('V2', 1),\n",
       " ('V3', 1),\n",
       " ('V4', 1),\n",
       " ('V5', 1),\n",
       " ('Harry Potter2', 2),\n",
       " ('LOTR', 2),\n",
       " ('Braveheart', 2),\n",
       " ('LOTR1', 3),\n",
       " ('Harry Potter1', 3),\n",
       " ('LOTR2', 3),\n",
       " ('Green Mile', 3),\n",
       " ('Sixth Sense', 7),\n",
       " ('Patriot', 7),\n",
       " ('Gladiator', 8),\n",
       " ('', 21),\n",
       " ('1', 30),\n",
       " ('0', 70)]"
      ]
     },
     "execution_count": 227,
     "metadata": {},
     "output_type": "execute_result"
    }
   ],
   "source": [
    "item_frequencies"
   ]
  },
  {
   "cell_type": "code",
   "execution_count": 228,
   "metadata": {},
   "outputs": [],
   "source": [
    "frequencies = list(reversed([i[1] for i in item_frequencies]))"
   ]
  },
  {
   "cell_type": "code",
   "execution_count": 229,
   "metadata": {},
   "outputs": [
    {
     "data": {
      "text/plain": [
       "[70, 30, 21, 8, 7, 7, 3, 3, 3, 3, 2, 2, 2, 1, 1, 1, 1, 1]"
      ]
     },
     "execution_count": 229,
     "metadata": {},
     "output_type": "execute_result"
    }
   ],
   "source": [
    "frequencies"
   ]
  },
  {
   "cell_type": "code",
   "execution_count": 230,
   "metadata": {},
   "outputs": [],
   "source": [
    "items = list(reversed([i[0] for i in item_frequencies]))"
   ]
  },
  {
   "cell_type": "code",
   "execution_count": 231,
   "metadata": {},
   "outputs": [
    {
     "data": {
      "text/plain": [
       "['0',\n",
       " '1',\n",
       " '',\n",
       " 'Gladiator',\n",
       " 'Patriot',\n",
       " 'Sixth Sense',\n",
       " 'Green Mile',\n",
       " 'LOTR2',\n",
       " 'Harry Potter1',\n",
       " 'LOTR1',\n",
       " 'Braveheart',\n",
       " 'LOTR',\n",
       " 'Harry Potter2',\n",
       " 'V5',\n",
       " 'V4',\n",
       " 'V3',\n",
       " 'V2',\n",
       " 'V1']"
      ]
     },
     "execution_count": 231,
     "metadata": {},
     "output_type": "execute_result"
    }
   ],
   "source": [
    "items"
   ]
  },
  {
   "cell_type": "code",
   "execution_count": 232,
   "metadata": {},
   "outputs": [],
   "source": [
    "import matplotlib.pyplot as plt"
   ]
  },
  {
   "cell_type": "code",
   "execution_count": 233,
   "metadata": {},
   "outputs": [],
   "source": [
    "movies_series  = pd.DataFrame(pd.Series(my_movies1_list))"
   ]
  },
  {
   "cell_type": "code",
   "execution_count": 234,
   "metadata": {},
   "outputs": [
    {
     "data": {
      "text/html": [
       "<div>\n",
       "<style scoped>\n",
       "    .dataframe tbody tr th:only-of-type {\n",
       "        vertical-align: middle;\n",
       "    }\n",
       "\n",
       "    .dataframe tbody tr th {\n",
       "        vertical-align: top;\n",
       "    }\n",
       "\n",
       "    .dataframe thead th {\n",
       "        text-align: right;\n",
       "    }\n",
       "</style>\n",
       "<table border=\"1\" class=\"dataframe\">\n",
       "  <thead>\n",
       "    <tr style=\"text-align: right;\">\n",
       "      <th></th>\n",
       "      <th>0</th>\n",
       "    </tr>\n",
       "  </thead>\n",
       "  <tbody>\n",
       "    <tr>\n",
       "      <th>0</th>\n",
       "      <td>[V1, V2, V3, V4, V5, Sixth Sense, Gladiator, L...</td>\n",
       "    </tr>\n",
       "    <tr>\n",
       "      <th>1</th>\n",
       "      <td>[Sixth Sense, LOTR1, Harry Potter1, Green Mile...</td>\n",
       "    </tr>\n",
       "    <tr>\n",
       "      <th>2</th>\n",
       "      <td>[Gladiator, Patriot, Braveheart, , , 0, 1, 0, ...</td>\n",
       "    </tr>\n",
       "    <tr>\n",
       "      <th>3</th>\n",
       "      <td>[LOTR1, LOTR2, , , , 0, 0, 1, 0, 0, 1, 0, 0, 0...</td>\n",
       "    </tr>\n",
       "    <tr>\n",
       "      <th>4</th>\n",
       "      <td>[Gladiator, Patriot, Sixth Sense, , , 1, 1, 0,...</td>\n",
       "    </tr>\n",
       "    <tr>\n",
       "      <th>5</th>\n",
       "      <td>[Gladiator, Patriot, Sixth Sense, , , 1, 1, 0,...</td>\n",
       "    </tr>\n",
       "    <tr>\n",
       "      <th>6</th>\n",
       "      <td>[Gladiator, Patriot, Sixth Sense, , , 1, 1, 0,...</td>\n",
       "    </tr>\n",
       "    <tr>\n",
       "      <th>7</th>\n",
       "      <td>[Harry Potter1, Harry Potter2, , , , 0, 0, 0, ...</td>\n",
       "    </tr>\n",
       "    <tr>\n",
       "      <th>8</th>\n",
       "      <td>[Gladiator, Patriot, , , , 0, 1, 0, 0, 1, 0, 0...</td>\n",
       "    </tr>\n",
       "    <tr>\n",
       "      <th>9</th>\n",
       "      <td>[Gladiator, Patriot, Sixth Sense, , , 1, 1, 0,...</td>\n",
       "    </tr>\n",
       "    <tr>\n",
       "      <th>10</th>\n",
       "      <td>[Sixth Sense, LOTR, Gladiator, Green Mile, , 1...</td>\n",
       "    </tr>\n",
       "    <tr>\n",
       "      <th>11</th>\n",
       "      <td>[]</td>\n",
       "    </tr>\n",
       "  </tbody>\n",
       "</table>\n",
       "</div>"
      ],
      "text/plain": [
       "                                                    0\n",
       "0   [V1, V2, V3, V4, V5, Sixth Sense, Gladiator, L...\n",
       "1   [Sixth Sense, LOTR1, Harry Potter1, Green Mile...\n",
       "2   [Gladiator, Patriot, Braveheart, , , 0, 1, 0, ...\n",
       "3   [LOTR1, LOTR2, , , , 0, 0, 1, 0, 0, 1, 0, 0, 0...\n",
       "4   [Gladiator, Patriot, Sixth Sense, , , 1, 1, 0,...\n",
       "5   [Gladiator, Patriot, Sixth Sense, , , 1, 1, 0,...\n",
       "6   [Gladiator, Patriot, Sixth Sense, , , 1, 1, 0,...\n",
       "7   [Harry Potter1, Harry Potter2, , , , 0, 0, 0, ...\n",
       "8   [Gladiator, Patriot, , , , 0, 1, 0, 0, 1, 0, 0...\n",
       "9   [Gladiator, Patriot, Sixth Sense, , , 1, 1, 0,...\n",
       "10  [Sixth Sense, LOTR, Gladiator, Green Mile, , 1...\n",
       "11                                                 []"
      ]
     },
     "execution_count": 234,
     "metadata": {},
     "output_type": "execute_result"
    }
   ],
   "source": [
    "movies_series"
   ]
  },
  {
   "cell_type": "code",
   "execution_count": 237,
   "metadata": {},
   "outputs": [],
   "source": [
    "movies_series = movies_series.iloc[:11,:]"
   ]
  },
  {
   "cell_type": "code",
   "execution_count": 238,
   "metadata": {},
   "outputs": [],
   "source": [
    "movies_series.columns = [\"transactions\"]"
   ]
  },
  {
   "cell_type": "code",
   "execution_count": 239,
   "metadata": {},
   "outputs": [],
   "source": [
    "X = movies_series['transactions'].str.join(sep='*').str.get_dummies(sep='*')"
   ]
  },
  {
   "cell_type": "code",
   "execution_count": 241,
   "metadata": {},
   "outputs": [],
   "source": [
    "frequent_itemsets = apriori(X, min_support=0.005, max_len=3,use_colnames = True)"
   ]
  },
  {
   "cell_type": "code",
   "execution_count": 242,
   "metadata": {},
   "outputs": [],
   "source": [
    "frequent_itemsets.sort_values('support',ascending = False,inplace=True)"
   ]
  },
  {
   "cell_type": "code",
   "execution_count": 243,
   "metadata": {},
   "outputs": [],
   "source": [
    "rules = association_rules(frequent_itemsets, metric=\"lift\", min_threshold=1)"
   ]
  },
  {
   "cell_type": "code",
   "execution_count": 245,
   "metadata": {},
   "outputs": [
    {
     "data": {
      "text/html": [
       "<div>\n",
       "<style scoped>\n",
       "    .dataframe tbody tr th:only-of-type {\n",
       "        vertical-align: middle;\n",
       "    }\n",
       "\n",
       "    .dataframe tbody tr th {\n",
       "        vertical-align: top;\n",
       "    }\n",
       "\n",
       "    .dataframe thead th {\n",
       "        text-align: right;\n",
       "    }\n",
       "</style>\n",
       "<table border=\"1\" class=\"dataframe\">\n",
       "  <thead>\n",
       "    <tr style=\"text-align: right;\">\n",
       "      <th></th>\n",
       "      <th>antecedents</th>\n",
       "      <th>consequents</th>\n",
       "      <th>antecedent support</th>\n",
       "      <th>consequent support</th>\n",
       "      <th>support</th>\n",
       "      <th>confidence</th>\n",
       "      <th>lift</th>\n",
       "      <th>leverage</th>\n",
       "      <th>conviction</th>\n",
       "    </tr>\n",
       "  </thead>\n",
       "  <tbody>\n",
       "    <tr>\n",
       "      <th>0</th>\n",
       "      <td>(1)</td>\n",
       "      <td>(0)</td>\n",
       "      <td>1.0</td>\n",
       "      <td>1.0</td>\n",
       "      <td>1.0</td>\n",
       "      <td>1.0</td>\n",
       "      <td>1.0</td>\n",
       "      <td>0.0</td>\n",
       "      <td>inf</td>\n",
       "    </tr>\n",
       "    <tr>\n",
       "      <th>1</th>\n",
       "      <td>(0)</td>\n",
       "      <td>(1)</td>\n",
       "      <td>1.0</td>\n",
       "      <td>1.0</td>\n",
       "      <td>1.0</td>\n",
       "      <td>1.0</td>\n",
       "      <td>1.0</td>\n",
       "      <td>0.0</td>\n",
       "      <td>inf</td>\n",
       "    </tr>\n",
       "    <tr>\n",
       "      <th>2</th>\n",
       "      <td>(Gladiator)</td>\n",
       "      <td>(0)</td>\n",
       "      <td>0.7</td>\n",
       "      <td>1.0</td>\n",
       "      <td>0.7</td>\n",
       "      <td>1.0</td>\n",
       "      <td>1.0</td>\n",
       "      <td>0.0</td>\n",
       "      <td>inf</td>\n",
       "    </tr>\n",
       "    <tr>\n",
       "      <th>3</th>\n",
       "      <td>(0)</td>\n",
       "      <td>(Gladiator)</td>\n",
       "      <td>1.0</td>\n",
       "      <td>0.7</td>\n",
       "      <td>0.7</td>\n",
       "      <td>0.7</td>\n",
       "      <td>1.0</td>\n",
       "      <td>0.0</td>\n",
       "      <td>1.0</td>\n",
       "    </tr>\n",
       "    <tr>\n",
       "      <th>4</th>\n",
       "      <td>(Gladiator, 1)</td>\n",
       "      <td>(0)</td>\n",
       "      <td>0.7</td>\n",
       "      <td>1.0</td>\n",
       "      <td>0.7</td>\n",
       "      <td>1.0</td>\n",
       "      <td>1.0</td>\n",
       "      <td>0.0</td>\n",
       "      <td>inf</td>\n",
       "    </tr>\n",
       "  </tbody>\n",
       "</table>\n",
       "</div>"
      ],
      "text/plain": [
       "      antecedents  consequents  antecedent support  consequent support  \\\n",
       "0             (1)          (0)                 1.0                 1.0   \n",
       "1             (0)          (1)                 1.0                 1.0   \n",
       "2     (Gladiator)          (0)                 0.7                 1.0   \n",
       "3             (0)  (Gladiator)                 1.0                 0.7   \n",
       "4  (Gladiator, 1)          (0)                 0.7                 1.0   \n",
       "\n",
       "   support  confidence  lift  leverage  conviction  \n",
       "0      1.0         1.0   1.0       0.0         inf  \n",
       "1      1.0         1.0   1.0       0.0         inf  \n",
       "2      0.7         1.0   1.0       0.0         inf  \n",
       "3      0.7         0.7   1.0       0.0         1.0  \n",
       "4      0.7         1.0   1.0       0.0         inf  "
      ]
     },
     "execution_count": 245,
     "metadata": {},
     "output_type": "execute_result"
    }
   ],
   "source": [
    "rules.head()"
   ]
  },
  {
   "cell_type": "code",
   "execution_count": 246,
   "metadata": {},
   "outputs": [],
   "source": [
    "rules.sort_values('lift',ascending = False,inplace=True)"
   ]
  },
  {
   "cell_type": "code",
   "execution_count": 247,
   "metadata": {},
   "outputs": [],
   "source": [
    "def to_list(i):\n",
    "    return (sorted(list(i)))"
   ]
  },
  {
   "cell_type": "code",
   "execution_count": 248,
   "metadata": {},
   "outputs": [],
   "source": [
    "ma_X = rules.antecedents.apply(to_list)+rules.consequents.apply(to_list)"
   ]
  },
  {
   "cell_type": "code",
   "execution_count": 249,
   "metadata": {},
   "outputs": [],
   "source": [
    "ma_X = ma_X.apply(sorted)"
   ]
  },
  {
   "cell_type": "code",
   "execution_count": 250,
   "metadata": {},
   "outputs": [],
   "source": [
    "rules_sets = list(ma_X)"
   ]
  },
  {
   "cell_type": "code",
   "execution_count": 251,
   "metadata": {},
   "outputs": [],
   "source": [
    "unique_rules_sets = [list(m) for m in set(tuple(i) for i in rules_sets)]"
   ]
  },
  {
   "cell_type": "code",
   "execution_count": 252,
   "metadata": {},
   "outputs": [],
   "source": [
    "index_rules = []"
   ]
  },
  {
   "cell_type": "code",
   "execution_count": 253,
   "metadata": {},
   "outputs": [],
   "source": [
    "for i in unique_rules_sets:\n",
    "    index_rules.append(rules_sets.index(i))"
   ]
  },
  {
   "cell_type": "code",
   "execution_count": 254,
   "metadata": {},
   "outputs": [],
   "source": [
    "rules_no_redudancy  = rules.iloc[index_rules,:]"
   ]
  },
  {
   "cell_type": "code",
   "execution_count": 256,
   "metadata": {},
   "outputs": [
    {
     "data": {
      "text/html": [
       "<div>\n",
       "<style scoped>\n",
       "    .dataframe tbody tr th:only-of-type {\n",
       "        vertical-align: middle;\n",
       "    }\n",
       "\n",
       "    .dataframe tbody tr th {\n",
       "        vertical-align: top;\n",
       "    }\n",
       "\n",
       "    .dataframe thead th {\n",
       "        text-align: right;\n",
       "    }\n",
       "</style>\n",
       "<table border=\"1\" class=\"dataframe\">\n",
       "  <thead>\n",
       "    <tr style=\"text-align: right;\">\n",
       "      <th></th>\n",
       "      <th>antecedents</th>\n",
       "      <th>consequents</th>\n",
       "      <th>antecedent support</th>\n",
       "      <th>consequent support</th>\n",
       "      <th>support</th>\n",
       "      <th>confidence</th>\n",
       "      <th>lift</th>\n",
       "      <th>leverage</th>\n",
       "      <th>conviction</th>\n",
       "    </tr>\n",
       "  </thead>\n",
       "  <tbody>\n",
       "    <tr>\n",
       "      <th>293</th>\n",
       "      <td>(Gladiator, Green Mile)</td>\n",
       "      <td>(LOTR)</td>\n",
       "      <td>0.1</td>\n",
       "      <td>0.1</td>\n",
       "      <td>0.1</td>\n",
       "      <td>1.0</td>\n",
       "      <td>10.0</td>\n",
       "      <td>0.09</td>\n",
       "      <td>inf</td>\n",
       "    </tr>\n",
       "    <tr>\n",
       "      <th>188</th>\n",
       "      <td>(LOTR, 1)</td>\n",
       "      <td>(Green Mile)</td>\n",
       "      <td>0.1</td>\n",
       "      <td>0.2</td>\n",
       "      <td>0.1</td>\n",
       "      <td>1.0</td>\n",
       "      <td>5.0</td>\n",
       "      <td>0.08</td>\n",
       "      <td>inf</td>\n",
       "    </tr>\n",
       "    <tr>\n",
       "      <th>229</th>\n",
       "      <td>(LOTR1, Sixth Sense)</td>\n",
       "      <td>(Harry Potter1)</td>\n",
       "      <td>0.1</td>\n",
       "      <td>0.2</td>\n",
       "      <td>0.1</td>\n",
       "      <td>1.0</td>\n",
       "      <td>5.0</td>\n",
       "      <td>0.08</td>\n",
       "      <td>inf</td>\n",
       "    </tr>\n",
       "    <tr>\n",
       "      <th>90</th>\n",
       "      <td>(LOTR1, 1)</td>\n",
       "      <td>(LOTR2)</td>\n",
       "      <td>0.2</td>\n",
       "      <td>0.2</td>\n",
       "      <td>0.2</td>\n",
       "      <td>1.0</td>\n",
       "      <td>5.0</td>\n",
       "      <td>0.16</td>\n",
       "      <td>inf</td>\n",
       "    </tr>\n",
       "    <tr>\n",
       "      <th>277</th>\n",
       "      <td>(LOTR1, Harry Potter1)</td>\n",
       "      <td>(Green Mile)</td>\n",
       "      <td>0.1</td>\n",
       "      <td>0.2</td>\n",
       "      <td>0.1</td>\n",
       "      <td>1.0</td>\n",
       "      <td>5.0</td>\n",
       "      <td>0.08</td>\n",
       "      <td>inf</td>\n",
       "    </tr>\n",
       "  </tbody>\n",
       "</table>\n",
       "</div>"
      ],
      "text/plain": [
       "                 antecedents      consequents  antecedent support  \\\n",
       "293  (Gladiator, Green Mile)           (LOTR)                 0.1   \n",
       "188                (LOTR, 1)     (Green Mile)                 0.1   \n",
       "229     (LOTR1, Sixth Sense)  (Harry Potter1)                 0.1   \n",
       "90                (LOTR1, 1)          (LOTR2)                 0.2   \n",
       "277   (LOTR1, Harry Potter1)     (Green Mile)                 0.1   \n",
       "\n",
       "     consequent support  support  confidence  lift  leverage  conviction  \n",
       "293                 0.1      0.1         1.0  10.0      0.09         inf  \n",
       "188                 0.2      0.1         1.0   5.0      0.08         inf  \n",
       "229                 0.2      0.1         1.0   5.0      0.08         inf  \n",
       "90                  0.2      0.2         1.0   5.0      0.16         inf  \n",
       "277                 0.2      0.1         1.0   5.0      0.08         inf  "
      ]
     },
     "execution_count": 256,
     "metadata": {},
     "output_type": "execute_result"
    }
   ],
   "source": [
    "rules_no_redudancy.sort_values('lift',ascending=False).head()"
   ]
  },
  {
   "cell_type": "code",
   "execution_count": null,
   "metadata": {},
   "outputs": [],
   "source": []
  }
 ],
 "metadata": {
  "kernelspec": {
   "display_name": "Python 3",
   "language": "python",
   "name": "python3"
  },
  "language_info": {
   "codemirror_mode": {
    "name": "ipython",
    "version": 3
   },
   "file_extension": ".py",
   "mimetype": "text/x-python",
   "name": "python",
   "nbconvert_exporter": "python",
   "pygments_lexer": "ipython3",
   "version": "3.7.3"
  }
 },
 "nbformat": 4,
 "nbformat_minor": 2
}
