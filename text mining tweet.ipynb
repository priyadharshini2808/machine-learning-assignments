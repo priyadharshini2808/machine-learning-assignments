{
 "cells": [
  {
   "cell_type": "code",
   "execution_count": 92,
   "metadata": {},
   "outputs": [],
   "source": [
    "import tweepy"
   ]
  },
  {
   "cell_type": "code",
   "execution_count": 93,
   "metadata": {},
   "outputs": [],
   "source": [
    "from textblob import TextBlob"
   ]
  },
  {
   "cell_type": "code",
   "execution_count": 94,
   "metadata": {},
   "outputs": [],
   "source": [
    "consumer_key = \"Kq4mCtnOSPiNwA9ArvYq03DE7\""
   ]
  },
  {
   "cell_type": "code",
   "execution_count": 95,
   "metadata": {},
   "outputs": [],
   "source": [
    "consumer_secret = \"aWBfVbrJWppmEy3mAbrjUHa6Y8AKU6qkCBZwA6ZpAO8BEFaoC2\""
   ]
  },
  {
   "cell_type": "code",
   "execution_count": 96,
   "metadata": {},
   "outputs": [],
   "source": [
    "access_key = \"529590041-eZXHHkluorWkdRZRWiVYW3GVBuvr3VXt84cZcDYA\""
   ]
  },
  {
   "cell_type": "code",
   "execution_count": 97,
   "metadata": {},
   "outputs": [],
   "source": [
    "access_secret = \"rqlG8jzmKTPU3bZoCwgRnOUoD5UYOx8KDjhoXySPrR3mI\""
   ]
  },
  {
   "cell_type": "code",
   "execution_count": 98,
   "metadata": {},
   "outputs": [],
   "source": [
    "auth = tweepy.OAuthHandler(consumer_key,consumer_secret)\n",
    "auth.set_access_token(access_key, access_secret)"
   ]
  },
  {
   "cell_type": "code",
   "execution_count": 99,
   "metadata": {},
   "outputs": [],
   "source": [
    "api = tweepy.API(auth)"
   ]
  },
  {
   "cell_type": "code",
   "execution_count": 100,
   "metadata": {},
   "outputs": [],
   "source": [
    "public_tweets=api.search('  ')"
   ]
  },
  {
   "cell_type": "code",
   "execution_count": 109,
   "metadata": {},
   "outputs": [
    {
     "name": "stdout",
     "output_type": "stream",
     "text": [
      "RT @IGN: Chris Pratt and Tom Holland want to host a D&amp;D session with the Avengers: https://t.co/cla3ApoVvO https://t.co/sey1TYYJ7J\n",
      "Sentiment(polarity=0.0, subjectivity=0.0)\n",
      "Que buena película Avengers: Endgame boludo no la voy a superar nunca en mi puta vida.\n",
      "Sentiment(polarity=0.0, subjectivity=0.0)\n",
      "RT @MotorPunk: https://t.co/6IOtruoayN\n",
      "Sentiment(polarity=0.0, subjectivity=0.0)\n",
      "RT @_CharlesMurphy: Fresh into my inbox and out to you. Available Fall 2020, based on the Avengers video game that I know nothing about. ht…\n",
      "Sentiment(polarity=0.09999999999999998, subjectivity=0.43333333333333335)\n",
      "BOGO FREE! Avengers logo Marvel logos comic characters Agents of S.H.I.E.L.D. X men Cross Stitch Pattern pdf instan… https://t.co/aBPyTSyOAY\n",
      "Sentiment(polarity=0.25, subjectivity=0.43333333333333335)\n",
      "RT @ComicBook: People are discovering that the new artwork for Marvel's Avengers makes for an impressive wallpaper. https://t.co/svUYDQr77i…\n",
      "Sentiment(polarity=0.5681818181818181, subjectivity=0.7272727272727273)\n",
      "@magicasen I didn't find his inability to move on romantic at all, it just felt unbelievably tragic, especially whe… https://t.co/itr5Gbdc3b\n",
      "Sentiment(polarity=-0.25, subjectivity=0.75)\n",
      "BOGO FREE! Mickey Mouse Avengers Superheroes Marvel logos comic movie characters Cross Stitch Pattern - pdf pattern… https://t.co/tYRLeMtLGU\n",
      "Sentiment(polarity=0.25, subjectivity=0.43333333333333335)\n",
      "@Mistouze Je me demande d’ailleurs toujours pourquoi ils ont sorti avengers 2 juste avant ant man allrs que si ils… https://t.co/Kv8o1yNGQF\n",
      "Sentiment(polarity=0.0, subjectivity=0.0)\n",
      "GameStop Figure Reveals 'Outback Hulk' for Marvel's Avengers https://t.co/3JBmYMjyC8 #Gaming #News #pgnhq\n",
      "Sentiment(polarity=0.0, subjectivity=0.0)\n",
      "RT @ChrisEvans: Hey guys, you have a chance to win a screen-used Captain America shield from Avengers: Endgame to support @GirlPowerful__ w…\n",
      "Sentiment(polarity=0.8, subjectivity=0.4)\n",
      "RT @capswinters: @thorsfeed age of ultron is a decent movie and the happiest of all avengers movies\n",
      "Sentiment(polarity=0.16666666666666666, subjectivity=0.6666666666666666)\n",
      "THE AVENGERS RECAST: Christoph Waltz as Iron Man, Andy Samberg as Captain America, Tom Holland as Thor, Christian S… https://t.co/dqxUGUjRlP\n",
      "Sentiment(polarity=0.0, subjectivity=0.0)\n",
      "@Orhan_Uluca haaland hainine bak kendisine emek veren klüplere çıkış bedeli koyduruyor\n",
      "Sentiment(polarity=0.0, subjectivity=0.0)\n",
      "RT @IGN: Chris Pratt and Tom Holland want to host a D&amp;D session with the Avengers: https://t.co/cla3ApoVvO https://t.co/sey1TYYJ7J\n",
      "Sentiment(polarity=0.0, subjectivity=0.0)\n",
      "Neutral\n"
     ]
    }
   ],
   "source": [
    "for tweet in public_tweets:\n",
    "    print(tweet.text)\n",
    "    analysis=TextBlob(tweet.text)\n",
    "    print(analysis.sentiment)\n",
    "if analysis.sentiment[0]>0:\n",
    "    print('Positive')\n",
    "elif analysis.sentiment[0]<0:\n",
    "    print('Negative')\n",
    "else:\n",
    "    print('Neutral')"
   ]
  },
  {
   "cell_type": "code",
   "execution_count": null,
   "metadata": {},
   "outputs": [],
   "source": []
  }
 ],
 "metadata": {
  "kernelspec": {
   "display_name": "Python 3",
   "language": "python",
   "name": "python3"
  },
  "language_info": {
   "codemirror_mode": {
    "name": "ipython",
    "version": 3
   },
   "file_extension": ".py",
   "mimetype": "text/x-python",
   "name": "python",
   "nbconvert_exporter": "python",
   "pygments_lexer": "ipython3",
   "version": "3.7.3"
  }
 },
 "nbformat": 4,
 "nbformat_minor": 2
}
